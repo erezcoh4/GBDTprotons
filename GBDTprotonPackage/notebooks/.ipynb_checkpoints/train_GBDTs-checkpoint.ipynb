{
 "cells": [
  {
   "cell_type": "code",
   "execution_count": 1,
   "metadata": {
    "collapsed": false
   },
   "outputs": [
    {
     "name": "stderr",
     "output_type": "stream",
     "text": [
      "/usr/local/lib/python2.7/site-packages/IPython/html.py:14: ShimWarning: The `IPython.html` package has been deprecated. You should import from `notebook` instead. `IPython.html.widgets` has moved to `ipywidgets`.\n",
      "  \"`IPython.html.widgets` has moved to `ipywidgets`.\", ShimWarning)\n"
     ]
    },
    {
     "data": {
      "application/javascript": [
       "require(['codemirror/mode/clike/clike'], function(Clike) { console.log('ROOTaaS - C++ CodeMirror module loaded'); });"
      ]
     },
     "metadata": {},
     "output_type": "display_data"
    },
    {
     "data": {
      "application/javascript": [
       "IPython.CodeCell.config_defaults.highlight_modes['magic_text/x-c++src'] = {'reg':[/^%%cpp/]};"
      ]
     },
     "metadata": {},
     "output_type": "display_data"
    },
    {
     "name": "stdout",
     "output_type": "stream",
     "text": [
      "Welcome to ROOTaaS 6.06/02\n",
      "\n",
      "\u001b[1mRooFit v3.60 -- Developed by Wouter Verkerke and David Kirkby\u001b[0m \n",
      "                Copyright (C) 2000-2013 NIKHEF, University of California & Stanford University\n",
      "                All rights reserved, please read http://roofit.sourceforge.net/license.txt\n",
      "\n"
     ]
    },
    {
     "name": "stderr",
     "output_type": "stream",
     "text": [
      "/usr/local/lib/python2.7/site-packages/sklearn/cross_validation.py:44: DeprecationWarning: This module was deprecated in version 0.18 in favor of the model_selection module into which all the refactored classes and functions are moved. Also note that the interface of the new CV iterators are different from that of this module. This module will be removed in 0.20.\n",
      "  \"This module will be removed in 0.20.\", DeprecationWarning)\n"
     ]
    }
   ],
   "source": [
    "from notebooks_tools import *\n",
    "from gbdt_tools import *\n",
    "from xgboost import plot_importance\n",
    "%matplotlib inline"
   ]
  },
  {
   "cell_type": "markdown",
   "metadata": {},
   "source": [
    "# Define parameters\n",
    "set the GBDTs hyper-parameters"
   ]
  },
  {
   "cell_type": "code",
   "execution_count": 2,
   "metadata": {
    "collapsed": false
   },
   "outputs": [
    {
     "name": "stdout",
     "output_type": "stream",
     "text": [
      "input: traininig sample file\n",
      "\u001b[91m/Users/erezcohen/Desktop/uBoone/AnalysisTreesAna/TrainingSamples/trainsample_300000_tracks_MC_BNB.csv\u001b[0m\n",
      "input: traininig sample file\n",
      "\u001b[91m/Users/erezcohen/Desktop/uBoone/AnalysisTreesAna/TrainingSamples/trainsample_200000_tracks_openCOSMIC_MC.csv\u001b[0m\n"
     ]
    }
   ],
   "source": [
    "data_type_arr=['MC_BNB','openCOSMIC_MC'] \n",
    "nevents_train_arr=[300000,200000] \n",
    "parameters = dict({ \n",
    "        'evnts_frac':1,# events fraction to process\n",
    "        'debug':2, # prints out information during the processes\n",
    "        'scale_pos_weight':2., # Balancing of positive and negative weights.\n",
    "        'objective':'multi:softprob', # Specify the learning task and the corresponding learning objective or a custom objective function to be used      \n",
    "        #  in previous rounds was'objective':'binary:logistic'\n",
    "        'eta':0.025, # Boosting learning rate        \n",
    "        'eval_metric':'merror', # a custom evaluation metric      \n",
    "        'silent':True, # Whether to print messages while running boosting\n",
    "        'nthread':6, # Number of parallel threads used to run xgboost.     \n",
    "        'min_child_weight':4, # Minimum sum of instance weight(hessian) needed in a child.        \n",
    "        'max_depth':13,# Maximum tree depth for base learners\n",
    "        'gamma':0.7, # Minimum loss reduction required to make a further partition on a leaf node of the tree.\n",
    "        'colsample_bytree':0.5, # Subsample ratio of columns when constructing each tree\n",
    "        'subsample':0.8, # Subsample ratio of the training instance       \n",
    "        'num_class':5, #  If early stopping occurs...     \n",
    "        'Ntrees':500,        \n",
    "        'Nfolds':10,\n",
    "        'num_round':200\n",
    "#         'reg_alpha':1e-5 # L1 regularization term on weights\n",
    "        })\n",
    "# [http://xgboost.readthedocs.io/en/latest/python/python_api.html]\n",
    "train_filename = []\n",
    "models_path = '/Users/erezcohen/Desktop/uBoone/AnalysisTreesAna/GBDTmodels'\n",
    "for data_name,nevnts in zip(data_type_arr,nevents_train_arr):\n",
    "    train_filename.append(TrainingSampleFileName( data_name , nevnts , main_path))    \n",
    "    print_filename( train_filename[-1] , \"input: traininig sample file\" )"
   ]
  },
  {
   "cell_type": "markdown",
   "metadata": {},
   "source": [
    "# comments:\n",
    "katherine gives in parameter_opt:\n",
    "eta=0.05\n",
    "max_depth=9\n",
    "gamma=0\n",
    "colsample_bytree=0.8\n"
   ]
  },
  {
   "cell_type": "markdown",
   "metadata": {},
   "source": [
    "# Load the data\n",
    "from the training files"
   ]
  },
  {
   "cell_type": "code",
   "execution_count": 3,
   "metadata": {
    "collapsed": false
   },
   "outputs": [
    {
     "name": "stdout",
     "output_type": "stream",
     "text": [
      "took only a fraction of 1 of tracks from MC-BNB and CORSIKA samples:\n",
      "140370 protons, 30221 pions, 61410 muons, 55994 em\n",
      "200000 cosmic tracks\n"
     ]
    }
   ],
   "source": [
    "data,label,weight = boost_multiscore.load_data( bnb_mc_filename=train_filename[0] , \n",
    "                                               corsika_mc_filename=train_filename[1] ,   \n",
    "                                               debug=parameters['debug'] ,\n",
    "                                               feature_names=feature_names ,\n",
    "                                               tracks_frac=parameters['evnts_frac'] )"
   ]
  },
  {
   "cell_type": "code",
   "execution_count": 4,
   "metadata": {
    "collapsed": false
   },
   "outputs": [
    {
     "data": {
      "text/plain": [
       "array([[  7.70000000e+01,   1.51080000e+01,  -4.09110000e+01, ...,\n",
       "         -5.44300000e+00,   2.21200000e+03,   1.47000000e-01],\n",
       "       [  9.00000000e+00,   3.62800000e+00,  -4.56700000e+00, ...,\n",
       "         -1.43760000e+01,   2.21200000e+03,   5.60000000e-02],\n",
       "       [  2.40000000e+01,   5.12500000e+00,  -5.31650000e+01, ...,\n",
       "         -8.57720000e+01,   2.21200000e+03,   8.00000000e-02],\n",
       "       ..., \n",
       "       [  5.30000000e+01,   1.22600000e+01,  -1.49120000e+01, ...,\n",
       "         -9.99900000e+03,  -1.10000000e+01,   3.80000000e-02],\n",
       "       [  1.00000000e+00,   7.03000000e-01,  -1.05761000e+02, ...,\n",
       "         -9.99900000e+03,   1.30000000e+01,   8.01200000e+00],\n",
       "       [  5.30000000e+01,   1.02030000e+01,   2.94600000e+00, ...,\n",
       "         -9.99900000e+03,   2.21200000e+03,   1.15000000e-01]])"
      ]
     },
     "execution_count": 4,
     "metadata": {},
     "output_type": "execute_result"
    }
   ],
   "source": [
    "data"
   ]
  },
  {
   "cell_type": "markdown",
   "metadata": {},
   "source": [
    "# cross-validation step\n",
    "from the training files"
   ]
  },
  {
   "cell_type": "code",
   "execution_count": null,
   "metadata": {
    "collapsed": false
   },
   "outputs": [
    {
     "name": "stdout",
     "output_type": "stream",
     "text": [
      "cross validate? [Y/n] yes\n",
      "enumerate(skf): <enumerate object at 0x122623b40>\n",
      "On fold 0\n",
      "On fold 1\n"
     ]
    }
   ],
   "source": [
    "do_cross_validation = yesno('cross validate?')\n",
    "if do_cross_validation:\n",
    "    test_error,test_falsepos,test_falseneg,scores = boost_multiscore.run_cv( data , label , weight , parameters , Nskf=10)"
   ]
  },
  {
   "cell_type": "code",
   "execution_count": null,
   "metadata": {
    "collapsed": false,
    "scrolled": false
   },
   "outputs": [],
   "source": [
    "fig = plt.figure(figsize=(10,10))\n",
    "\n",
    "ax = fig.add_subplot(2,2,1)\n",
    "plt.hist(test_error);\n",
    "set_axes(ax,x_label='test error',y_label='counts',fontsize=15)\n",
    "\n",
    "ax = fig.add_subplot(2,2,2)\n",
    "plt.hist([test_falsepos,test_falseneg],label=['false positive','false negative']);\n",
    "set_axes(ax,x_label='fraction',y_label='counts',fontsize=15)\n",
    "plt.legend(fontsize=20,loc='best')\n",
    "\n",
    "ax = fig.add_subplot(2,1,2)\n",
    "plt.hist([scores[0],scores[1],scores[2],scores[3],scores[4]],\n",
    "         label=['$p$-score','$\\\\mu$-score','$\\\\pi$-score','$em$-score','$cosmic$-score'],\n",
    "         histtype='step',linewidth=2);\n",
    "set_axes(ax,x_label='score',fontsize=15)\n",
    "plt.legend(fontsize=20,loc='best')"
   ]
  },
  {
   "cell_type": "markdown",
   "metadata": {},
   "source": [
    "# optimization of the hyper-parameters"
   ]
  },
  {
   "cell_type": "code",
   "execution_count": null,
   "metadata": {
    "collapsed": false
   },
   "outputs": [],
   "source": [
    "do_optimize_paramters = yesno('optimize parameters?')\n",
    "if do_optimize_paramters:\n",
    "    results_optimize = test_error,test_falsepos,test_falseneg,scores = boost_multiscore.parameter_opt( data , label , weight , parameters )"
   ]
  },
  {
   "cell_type": "code",
   "execution_count": null,
   "metadata": {
    "collapsed": false
   },
   "outputs": [],
   "source": [
    "results_optimize"
   ]
  },
  {
   "cell_type": "markdown",
   "metadata": {},
   "source": [
    "# build the tree"
   ]
  },
  {
   "cell_type": "code",
   "execution_count": 4,
   "metadata": {
    "collapsed": false
   },
   "outputs": [
    {
     "name": "stdout",
     "output_type": "stream",
     "text": [
      "make bdt? [Y/n] yes\n"
     ]
    }
   ],
   "source": [
    "model_name = 'model_2017Jan28'\n",
    "do_make_bdt = yesno('make %s bdt?'%model_name)\n",
    "if do_make_bdt:\n",
    "    bdt = boost_multiscore.make_bdt( data , label , weight , parameters)"
   ]
  },
  {
   "cell_type": "code",
   "execution_count": 11,
   "metadata": {
    "collapsed": false
   },
   "outputs": [
    {
     "name": "stdout",
     "output_type": "stream",
     "text": [
      "bdt: <xgboost.core.Booster object at 0x118374690>\n"
     ]
    }
   ],
   "source": [
    "# save the as-built bdt \n",
    "print 'bdt:',bdt"
   ]
  },
  {
   "cell_type": "code",
   "execution_count": 13,
   "metadata": {
    "collapsed": false
   },
   "outputs": [
    {
     "data": {
      "text/plain": [
       "<matplotlib.axes._subplots.AxesSubplot at 0x118153350>"
      ]
     },
     "execution_count": 13,
     "metadata": {},
     "output_type": "execute_result"
    },
    {
     "data": {
      "image/png": "[encoded data removed]",
      "text/plain": [
       "<matplotlib.figure.Figure at 0x118374ed0>"
      ]
     },
     "metadata": {},
     "output_type": "display_data"
    }
   ],
   "source": [
    "plot_importance(bdt)"
   ]
  },
  {
   "cell_type": "code",
   "execution_count": null,
   "metadata": {
    "collapsed": true
   },
   "outputs": [],
   "source": [
    "# plot importances with features names...\n",
    "outfile = open('xgb.fmap', 'w')\n",
    "i = 0\n",
    "for feat in feature_names:\n",
    "    outfile.write('{0}\\t{1}\\tq\\n'.format(i, feat))\n",
    "    i = i + 1\n",
    "outfile.close()\n",
    "\n",
    "\n",
    "importance = Booster.get_fscore(fmap='xgb.fmap')\n",
    "importance = sorted(importance.items(), key=operator.itemgetter(1))\n",
    "\n",
    "df = pd.DataFrame(importance, columns=['feature', 'fscore'])\n",
    "df['fscore'] = df['fscore'] / df['fscore'].sum()\n",
    "\n",
    "plt.figure()\n",
    "df.plot()\n",
    "df.plot(kind='barh', x='feature', y='fscore', legend=False, figsize=(6, 10))\n",
    "plt.title('XGBoost Feature Importance',fontsize=22)\n",
    "plt.xlabel('relative importance',fontsize=22)\n",
    "plt.show()\n",
    "plt.gcf().savefig( models_path + '/importances_'+model_name+'.pdf')"
   ]
  },
  {
   "cell_type": "code",
   "execution_count": 5,
   "metadata": {
    "collapsed": true
   },
   "outputs": [],
   "source": [
    "bdt.save_model(models_path + '/'+model_name+'.bst')"
   ]
  },
  {
   "cell_type": "code",
   "execution_count": null,
   "metadata": {
    "collapsed": true
   },
   "outputs": [],
   "source": []
  }
 ],
 "metadata": {
  "kernelspec": {
   "display_name": "Python 2",
   "language": "python",
   "name": "python2"
  },
  "language_info": {
   "codemirror_mode": {
    "name": "ipython",
    "version": 2
   },
   "file_extension": ".py",
   "mimetype": "text/x-python",
   "name": "python",
   "nbconvert_exporter": "python",
   "pygments_lexer": "ipython2",
   "version": "2.7.11"
  }
 },
 "nbformat": 4,
 "nbformat_minor": 1
}
