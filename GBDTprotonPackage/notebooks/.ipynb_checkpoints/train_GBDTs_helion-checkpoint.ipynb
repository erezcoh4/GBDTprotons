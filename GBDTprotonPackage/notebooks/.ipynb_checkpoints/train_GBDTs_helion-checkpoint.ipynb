{
 "cells": [
  {
   "cell_type": "code",
   "execution_count": 1,
   "metadata": {
    "collapsed": false
   },
   "outputs": [],
   "source": [
    "from notebooks_tools import *\n",
    "from gbdt_tools import *\n",
    "%matplotlib inline"
   ]
  },
  {
   "cell_type": "markdown",
   "metadata": {},
   "source": [
    "# Define parameters\n",
    "set the GBDTs hyper-parameters"
   ]
  },
  {
   "cell_type": "code",
   "execution_count": null,
   "metadata": {
    "collapsed": false
   },
   "outputs": [
    {
     "name": "stdout",
     "output_type": "stream",
     "text": [
      "input: traininig sample file\n",
      "\u001b[91m/Users/erezcohen/Desktop/uBoone/AnalysisTreesAna/TrainingSamples/trainsample_300000_tracks_MC_BNB.csv\u001b[0m\n",
      "input: traininig sample file\n",
      "\u001b[91m/Users/erezcohen/Desktop/uBoone/AnalysisTreesAna/TrainingSamples/trainsample_200000_tracks_openCOSMIC_MC.csv\u001b[0m\n"
     ]
    }
   ],
   "source": [
    "data_type_arr=['MC_BNB','openCOSMIC_MC'] \n",
    "nevents_train_arr=[300000,200000] \n",
    "parameters = dict({ \n",
    "        'evnts_frac':0.01,# events fraction to process\n",
    "        'debug':2, # prints out information during the processes\n",
    "        'scale_pos_weight':2., # Balancing of positive and negative weights.\n",
    "        'objective':'binary:logistic', # Specify the learning task and the corresponding learning objective or a custom objective function to be used      \n",
    "        'eta':0.025, # Boosting learning rate        \n",
    "        'eval_metric':'error', # a custom evaluation metric      \n",
    "        'silent':True, # Whether to print messages while running boosting\n",
    "        'nthread':6, # Number of parallel threads used to run xgboost.     \n",
    "        'min_child_weight':4, # Minimum sum of instance weight(hessian) needed in a child.        \n",
    "        'max_depth':13,# Maximum tree depth for base learners\n",
    "        'gamma':0.7, # Minimum loss reduction required to make a further partition on a leaf node of the tree.\n",
    "        'colsample_bytree':0.5, # Subsample ratio of columns when constructing each tree\n",
    "        'subsample':0.8, # Subsample ratio of the training instance       \n",
    "        'num_class':5, #  If early stopping occurs...     \n",
    "        'Ntrees':500,        \n",
    "        'Nfolds':10,\n",
    "        'num_round':200\n",
    "#         'reg_alpha':1e-5 # L1 regularization term on weights\n",
    "        })\n",
    "# [http://xgboost.readthedocs.io/en/latest/python/python_api.html]\n",
    "train_filename = []\n",
    "for data,nevnts in zip(data_type_arr,nevents_train_arr):\n",
    "    train_filename.append(TrainingSampleFileName( data , nevnts , main_path))    \n",
    "    print_filename( train_filename[-1] , \"input: traininig sample file\" )"
   ]
  },
  {
   "cell_type": "markdown",
   "metadata": {},
   "source": [
    "# comments:\n",
    "katherine gives in parameter_opt:\n",
    "eta=0.05\n",
    "max_depth=9\n",
    "gamma=0\n",
    "colsample_bytree=0.8\n"
   ]
  },
  {
   "cell_type": "markdown",
   "metadata": {},
   "source": [
    "# Load the data\n",
    "from the training files"
   ]
  },
  {
   "cell_type": "code",
   "execution_count": null,
   "metadata": {
    "collapsed": false
   },
   "outputs": [],
   "source": [
    "data,label,weight = boost_multiscore.load_data( bnb_mc_filename=train_filename[0] , \n",
    "                                               corsika_mc_filename=train_filename[1] ,   \n",
    "                                               debug=parameters['debug'] ,\n",
    "                                               feature_names=feature_names ,\n",
    "                                               tracks_frac=parameters['evnts_frac'] )"
   ]
  },
  {
   "cell_type": "markdown",
   "metadata": {},
   "source": [
    "# cross-validation step\n",
    "from the training files"
   ]
  },
  {
   "cell_type": "code",
   "execution_count": null,
   "metadata": {
    "collapsed": false
   },
   "outputs": [],
   "source": [
    "do_cross_validation = yesno('cross validate?')\n",
    "if do_cross_validation:\n",
    "    test_error,test_falsepos,test_falseneg,scores = boost_multiscore.run_cv( data , label , weight , parameters )"
   ]
  },
  {
   "cell_type": "code",
   "execution_count": null,
   "metadata": {
    "collapsed": false,
    "scrolled": false
   },
   "outputs": [],
   "source": [
    "fig = plt.figure(figsize=(10,10))\n",
    "\n",
    "ax = fig.add_subplot(2,2,1)\n",
    "plt.hist(test_error);\n",
    "set_axes(ax,x_label='test error',y_label='counts',fontsize=15)\n",
    "\n",
    "ax = fig.add_subplot(2,2,2)\n",
    "plt.hist([test_falsepos,test_falseneg],label=['false positive','false negative']);\n",
    "set_axes(ax,x_label='fraction',y_label='counts',fontsize=15)\n",
    "plt.legend(fontsize=20,loc='best')\n",
    "\n",
    "ax = fig.add_subplot(2,1,2)\n",
    "plt.hist([scores[0],scores[1],scores[2],scores[3],scores[4]],\n",
    "         label=['$p$-score','$\\\\mu$-score','$\\\\pi$-score','$em$-score','$cosmic$-score'],\n",
    "         histtype='step',linewidth=2);\n",
    "set_axes(ax,x_label='score',fontsize=15)\n",
    "plt.legend(fontsize=20,loc='best')"
   ]
  },
  {
   "cell_type": "markdown",
   "metadata": {},
   "source": [
    "# optimization of the hyper-parameters"
   ]
  },
  {
   "cell_type": "code",
   "execution_count": null,
   "metadata": {
    "collapsed": false
   },
   "outputs": [],
   "source": [
    "do_optimize_paramters = yesno('optimize parameters?')\n",
    "if do_optimize_paramters:\n",
    "    test_error,test_falsepos,test_falseneg,scores = boost_multiscore.parameter_opt( data , label , weight , parameters )"
   ]
  },
  {
   "cell_type": "code",
   "execution_count": null,
   "metadata": {
    "collapsed": true
   },
   "outputs": [],
   "source": []
  }
 ],
 "metadata": {
  "kernelspec": {
   "display_name": "Python 2",
   "language": "python",
   "name": "python2"
  },
  "language_info": {
   "codemirror_mode": {
    "name": "ipython",
    "version": 2
   },
   "file_extension": ".py",
   "mimetype": "text/x-python",
   "name": "python",
   "nbconvert_exporter": "python",
   "pygments_lexer": "ipython2",
   "version": "2.7.11"
  }
 },
 "nbformat": 4,
 "nbformat_minor": 1
}
